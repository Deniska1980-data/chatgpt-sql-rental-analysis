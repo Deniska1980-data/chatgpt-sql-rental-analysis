{
  "nbformat": 4,
  "nbformat_minor": 0,
  "metadata": {
    "colab": {
      "provenance": []
    },
    "kernelspec": {
      "name": "python3",
      "display_name": "Python 3"
    },
    "language_info": {
      "name": "python"
    }
  },
  "cells": [
    {
      "cell_type": "code",
      "execution_count": null,
      "metadata": {
        "colab": {
          "base_uri": "https://localhost:8080/"
        },
        "id": "zMTStnrnVREv",
        "outputId": "0c1e10b6-bfa2-486d-e94e-bd6103d40410"
      },
      "outputs": [
        {
          "output_type": "stream",
          "name": "stdout",
          "text": [
            "  category  rental_id\n",
            "0   Action          1\n",
            "1   Comedy          2\n",
            "2    Drama          3\n",
            "3   Action          4\n",
            "4    Drama          5\n",
            "5   Comedy          6\n",
            "6   Action          7\n",
            "7    Drama          8\n",
            "8   Comedy          9\n",
            "9   Action         10\n"
          ]
        }
      ],
      "source": [
        "import pandas as pd\n",
        "\n",
        "# Malý dataset podobný Sakila\n",
        "data = {\n",
        "    \"category\": [\"Action\", \"Comedy\", \"Drama\", \"Action\", \"Drama\", \"Comedy\", \"Action\", \"Drama\", \"Comedy\", \"Action\"],\n",
        "    \"rental_id\": [1,2,3,4,5,6,7,8,9,10]\n",
        "}\n",
        "\n",
        "df = pd.DataFrame(data)\n",
        "print(df)\n"
      ]
    },
    {
      "cell_type": "code",
      "source": [],
      "metadata": {
        "id": "9Il21NXMcjUr"
      },
      "execution_count": null,
      "outputs": []
    },
    {
      "cell_type": "code",
      "execution_count": null,
      "metadata": {
        "colab": {
          "base_uri": "https://localhost:8080/"
        },
        "outputId": "0c1e10b6-bfa2-486d-e94e-bd6103d40410",
        "id": "VDR9SASUckJq"
      },
      "outputs": [
        {
          "output_type": "stream",
          "name": "stdout",
          "text": [
            "  category  rental_id\n",
            "0   Action          1\n",
            "1   Comedy          2\n",
            "2    Drama          3\n",
            "3   Action          4\n",
            "4    Drama          5\n",
            "5   Comedy          6\n",
            "6   Action          7\n",
            "7    Drama          8\n",
            "8   Comedy          9\n",
            "9   Action         10\n"
          ]
        }
      ],
      "source": [
        "import pandas as pd\n",
        "\n",
        "# Malý dataset podobný Sakila\n",
        "data = {\n",
        "    \"category\": [\"Action\", \"Comedy\", \"Drama\", \"Action\", \"Drama\", \"Comedy\", \"Action\", \"Drama\", \"Comedy\", \"Action\"],\n",
        "    \"rental_id\": [1,2,3,4,5,6,7,8,9,10]\n",
        "}\n",
        "\n",
        "df = pd.DataFrame(data)\n",
        "print(df)\n"
      ]
    },
    {
      "cell_type": "code",
      "source": [],
      "metadata": {
        "id": "ou1rAD1bcnUc"
      },
      "execution_count": null,
      "outputs": []
    },
    {
      "cell_type": "code",
      "execution_count": null,
      "metadata": {
        "colab": {
          "base_uri": "https://localhost:8080/"
        },
        "outputId": "0c1e10b6-bfa2-486d-e94e-bd6103d40410",
        "id": "y40xMXTucoVn"
      },
      "outputs": [
        {
          "output_type": "stream",
          "name": "stdout",
          "text": [
            "  category  rental_id\n",
            "0   Action          1\n",
            "1   Comedy          2\n",
            "2    Drama          3\n",
            "3   Action          4\n",
            "4    Drama          5\n",
            "5   Comedy          6\n",
            "6   Action          7\n",
            "7    Drama          8\n",
            "8   Comedy          9\n",
            "9   Action         10\n"
          ]
        }
      ],
      "source": [
        "import pandas as pd\n",
        "\n",
        "# Malý dataset podobný Sakila\n",
        "data = {\n",
        "    \"category\": [\"Action\", \"Comedy\", \"Drama\", \"Action\", \"Drama\", \"Comedy\", \"Action\", \"Drama\", \"Comedy\", \"Action\"],\n",
        "    \"rental_id\": [1,2,3,4,5,6,7,8,9,10]\n",
        "}\n",
        "\n",
        "df = pd.DataFrame(data)\n",
        "print(df)\n"
      ]
    },
    {
      "cell_type": "code",
      "source": [
        "df_with_totals = df.merge(rentals_by_category, on=\"category\")\n",
        "print(df_with_totals)\n"
      ],
      "metadata": {
        "colab": {
          "base_uri": "https://localhost:8080/"
        },
        "id": "qoVJGYyactVK",
        "outputId": "a83aae8c-9f60-46ed-82f4-430eaa996291"
      },
      "execution_count": null,
      "outputs": [
        {
          "output_type": "stream",
          "name": "stdout",
          "text": [
            "  category  rental_id  total_rentals\n",
            "0   Action          1              4\n",
            "1   Comedy          2              3\n",
            "2    Drama          3              3\n",
            "3   Action          4              4\n",
            "4    Drama          5              3\n",
            "5   Comedy          6              3\n",
            "6   Action          7              4\n",
            "7    Drama          8              3\n",
            "8   Comedy          9              3\n",
            "9   Action         10              4\n"
          ]
        }
      ]
    },
    {
      "cell_type": "code",
      "source": [
        "# Počet prenájmov podľa kategórie\n",
        "rentals_by_category = df.groupby(\"category\")[\"rental_id\"].count().reset_index()\n",
        "rentals_by_category = rentals_by_category.rename(columns={\"rental_id\": \"total_rentals\"})\n",
        "print(rentals_by_category)\n"
      ],
      "metadata": {
        "colab": {
          "base_uri": "https://localhost:8080/"
        },
        "id": "VzP3JBoEVieo",
        "outputId": "2c102280-9375-4d73-f42f-3f5ae9e23e72"
      },
      "execution_count": null,
      "outputs": [
        {
          "output_type": "stream",
          "name": "stdout",
          "text": [
            "  category  total_rentals\n",
            "0   Action              4\n",
            "1   Comedy              3\n",
            "2    Drama              3\n"
          ]
        }
      ]
    },
    {
      "cell_type": "code",
      "source": [
        "import matplotlib.pyplot as plt\n",
        "\n",
        "plt.bar(rentals_by_category[\"category\"], rentals_by_category[\"total_rentals\"], color=\"orange\")\n",
        "plt.title(\"Number of Rentals by Film Category\")\n",
        "plt.xlabel(\"Category\")\n",
        "plt.ylabel(\"Total Rentals\")\n",
        "plt.show()\n"
      ],
      "metadata": {
        "colab": {
          "base_uri": "https://localhost:8080/",
          "height": 472
        },
        "id": "JxBWItFpWGi6",
        "outputId": "8a809271-6a38-4b44-c6a4-3caaa26a92af"
      },
      "execution_count": null,
      "outputs": [
        {
          "output_type": "display_data",
          "data": {
            "text/plain": [
              "<Figure size 640x480 with 1 Axes>"
            ],
            "image/png": "[encoded data removed]"
          },
          "metadata": {}
        }
      ]
    },
    {
      "cell_type": "code",
      "source": [
        "plt.savefig(\"top_categories_chart.png\")\n",
        "plt.show()\n"
      ],
      "metadata": {
        "colab": {
          "base_uri": "https://localhost:8080/",
          "height": 34
        },
        "id": "gYsSyZ6UWQ-b",
        "outputId": "33a8765d-7034-4cfa-eb17-7e0b42c436ff"
      },
      "execution_count": null,
      "outputs": [
        {
          "output_type": "display_data",
          "data": {
            "text/plain": [
              "<Figure size 640x480 with 0 Axes>"
            ]
          },
          "metadata": {}
        }
      ]
    },
    {
      "cell_type": "code",
      "source": [
        "import matplotlib.pyplot as plt\n",
        "\n",
        "# Vykreslenie grafu\n",
        "plt.bar(rentals_by_category[\"category\"], rentals_by_category[\"total_rentals\"], color=\"yellow\")\n",
        "\n",
        "# Najprv zobraz graf\n",
        "plt.show()\n",
        "\n",
        "# Potom ho ulož do súboru\n",
        "plt.savefig(\"top_categories_chart.png\")\n"
      ],
      "metadata": {
        "colab": {
          "base_uri": "https://localhost:8080/",
          "height": 447
        },
        "id": "dGJ5mogCXQL1",
        "outputId": "e0d4dbd4-3175-432f-e09d-90f05593087f"
      },
      "execution_count": null,
      "outputs": [
        {
          "output_type": "display_data",
          "data": {
            "text/plain": [
              "<Figure size 640x480 with 1 Axes>"
            ],
            "image/png": "[encoded data removed]"
          },
          "metadata": {}
        },
        {
          "output_type": "display_data",
          "data": {
            "text/plain": [
              "<Figure size 640x480 with 0 Axes>"
            ]
          },
          "metadata": {}
        }
      ]
    }
  ]
}